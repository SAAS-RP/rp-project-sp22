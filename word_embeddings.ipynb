{
 "cells": [
  {
   "cell_type": "markdown",
   "metadata": {},
   "source": [
    "## Word Embeddings \n",
    "\n",
    "This file is meant for preprocessing our final dataset into a proper training set for Word2Vec, as well as building the model itself using Tensorflow and Gensim."
   ]
  },
  {
   "cell_type": "code",
   "execution_count": 1,
   "metadata": {},
   "outputs": [],
   "source": [
    "import numpy as np\n",
    "import tensorflow as tf\n",
    "import pickle\n",
    "from sklearn import manifold\n",
    "import matplotlib.pyplot as plt\n",
    "%matplotlib inline"
   ]
  },
  {
   "cell_type": "code",
   "execution_count": 2,
   "metadata": {},
   "outputs": [],
   "source": [
    "# loading datasets\n",
    "data_folder = '/Users/vibhav/Desktop/rp-project-data'\n",
    "classical = pickle.load(open(data_folder + '/classical.pkl', mode='rb'))\n",
    "romantic = pickle.load(open(data_folder + '/romantic.pkl', mode='rb'))\n",
    "victorian = pickle.load(open(data_folder + '/victorian.pkl', mode='rb'))\n",
    "modern = pickle.load(open(data_folder + '/modern.pkl', mode='rb'))"
   ]
  },
  {
   "cell_type": "markdown",
   "metadata": {},
   "source": [
    "### Generating Training Data"
   ]
  },
  {
   "cell_type": "code",
   "execution_count": 3,
   "metadata": {},
   "outputs": [
    {
     "name": "stderr",
     "output_type": "stream",
     "text": [
      "2022-04-24 03:44:57.907270: W tensorflow/core/platform/profile_utils/cpu_utils.cc:128] Failed to get CPU frequency: 0 Hz\n"
     ]
    }
   ],
   "source": [
    "def standardization(sent):\n",
    "    sent = tf.strings.lower(sent)\n",
    "    return tf.strings.regex_replace(sent, '[^a-zA-Z\\s]', '')\n",
    "\n",
    "vocab_size = 5000\n",
    "seq_length = 10\n",
    "\n",
    "#text vectorizer for every dataset\n",
    "ro_vectorizer_layer = tf.keras.layers.TextVectorization(standardize=standardization, output_mode='int', max_tokens=vocab_size, output_sequence_length=seq_length, split='whitespace')\n",
    "vi_vectorizer_layer = tf.keras.layers.TextVectorization(standardize=standardization, output_mode='int', max_tokens=vocab_size, output_sequence_length=seq_length, split='whitespace')\n",
    "mo_vectorizer_layer = tf.keras.layers.TextVectorization(standardize=standardization, output_mode='int', max_tokens=vocab_size, output_sequence_length=seq_length, split='whitespace')\n",
    "\n",
    "#extracting training samples\n",
    "\n",
    "ro_dataset = tf.data.Dataset.from_tensor_slices(np.random.choice(romantic['sentences'], 10000))\n",
    "vi_dataset = tf.data.Dataset.from_tensor_slices(np.random.choice(victorian['sentences'], 10000))\n",
    "mo_dataset = tf.data.Dataset.from_tensor_slices(np.random.choice(modern['sentences'], 10000))\n",
    "\n",
    "#fitting vectorize layer to corpus\n",
    "ro_vectorizer_layer.adapt(ro_dataset.batch(500))\n",
    "vi_vectorizer_layer.adapt(vi_dataset.batch(500))\n",
    "mo_vectorizer_layer.adapt(mo_dataset.batch(500))\n",
    "\n",
    "ro_vocab = ro_vectorizer_layer.get_vocabulary()\n",
    "vi_vocab = vi_vectorizer_layer.get_vocabulary()\n",
    "mo_vocab = mo_vectorizer_layer.get_vocabulary()\n",
    "\n",
    "ro_int_sents = ro_dataset.batch(500).prefetch(tf.data.AUTOTUNE).map(ro_vectorizer_layer).unbatch()\n",
    "vi_int_sents = vi_dataset.batch(500).prefetch(tf.data.AUTOTUNE).map(vi_vectorizer_layer).unbatch()\n",
    "mo_int_sents = mo_dataset.batch(500).prefetch(tf.data.AUTOTUNE).map(mo_vectorizer_layer).unbatch()\n",
    "\n",
    "ro_seqs = list(ro_int_sents.as_numpy_iterator())\n",
    "vi_seqs = list(vi_int_sents.as_numpy_iterator())\n",
    "mo_seqs = list(mo_int_sents.as_numpy_iterator())"
   ]
  },
  {
   "cell_type": "code",
   "execution_count": 4,
   "metadata": {},
   "outputs": [
    {
     "name": "stdout",
     "output_type": "stream",
     "text": [
      "romantic done\n",
      "victorian done\n",
      "modern done\n"
     ]
    }
   ],
   "source": [
    "# generating skip-grams\n",
    "ro_ds = np.array([], dtype=object)\n",
    "ro_labels = np.array([], dtype=object)\n",
    "vi_ds = np.array([], dtype=object)\n",
    "vi_labels = np.array([], dtype=object)\n",
    "mo_ds = np.array([], dtype=object)\n",
    "mo_labels = np.array([], dtype=object)\n",
    "count = 0\n",
    "for s in ro_seqs:\n",
    "    sg, ls = tf.keras.preprocessing.sequence.skipgrams(s, vocabulary_size=len(ro_vocab), window_size=5, negative_samples=0)\n",
    "    ro_ds = np.append(ro_ds, sg)\n",
    "    ro_labels = np.append(ro_labels, ls)\n",
    "print('romantic done')\n",
    "for s in vi_seqs:\n",
    "    sg, ls = tf.keras.preprocessing.sequence.skipgrams(s, vocabulary_size=len(vi_vocab), window_size=5, negative_samples=0)\n",
    "    vi_ds = np.append(vi_ds, sg)\n",
    "    vi_labels = np.append(vi_labels, ls)\n",
    "print('victorian done')\n",
    "for s in mo_seqs:\n",
    "    sg, ls = tf.keras.preprocessing.sequence.skipgrams(s, vocabulary_size=len(mo_vocab), window_size=5, negative_samples=0)\n",
    "    mo_ds = np.append(mo_ds, sg)\n",
    "    mo_labels = np.append(mo_labels, ls)\n",
    "print('modern done')"
   ]
  },
  {
   "cell_type": "code",
   "execution_count": 5,
   "metadata": {},
   "outputs": [
    {
     "name": "stdout",
     "output_type": "stream",
     "text": [
      "607550\n",
      "607550\n"
     ]
    }
   ],
   "source": [
    "tens = lambda l: tf.convert_to_tensor(l, dtype=tf.int32)\n",
    "if len(ro_ds)%2 != 0:\n",
    "    ro_ds = np.append(ro_ds, 0)\n",
    "if len(vi_ds)%2 != 0:\n",
    "    vi_ds = np.append(vi_ds, 0)\n",
    "if len(mo_ds)%2 != 0:\n",
    "    mo_ds = np.append(mo_ds, 0)\n",
    "r = len(ro_ds)\n",
    "v = len(vi_ds)\n",
    "m = len(mo_ds)\n",
    "ro_d = np.reshape(ro_ds, (r//2, 2))\n",
    "vi_d = np.reshape(vi_ds, (v//2, 2))\n",
    "mo_d = np.reshape(mo_ds, (m//2, 2))\n",
    "print(ro_d.shape[0])\n",
    "print(len(ro_labels))\n",
    "if ro_d.shape[0] < len(ro_labels):\n",
    "    print('helcs')\n",
    "    ro_l = ro_labels[:len(ro_labels)-2]\n",
    "else:\n",
    "    ro_l = np.append(ro_labels, np.zeros(ro_d.shape[0]-len(ro_labels)))\n",
    "if vi_d.shape[0] < len(vi_labels):\n",
    "    vi_l = vi_labels[:len(vi_labels)-2]\n",
    "else:\n",
    "    vi_l = np.append(vi_labels, np.zeros(vi_d.shape[0]-len(vi_labels)))\n",
    "if mo_d.shape[0] < len(mo_labels):\n",
    "    mo_l = mo_labels[:len(mo_labels)-2]\n",
    "else:\n",
    "    mo_l = np.append(mo_labels, np.zeros(mo_d.shape[0]-len(mo_labels)))"
   ]
  },
  {
   "cell_type": "code",
   "execution_count": 6,
   "metadata": {},
   "outputs": [
    {
     "name": "stdout",
     "output_type": "stream",
     "text": [
      "607550\n",
      "607550\n"
     ]
    },
    {
     "name": "stderr",
     "output_type": "stream",
     "text": [
      "/var/folders/g5/p95y18kn7ljd88z8mc59xsdm0000gn/T/ipykernel_44177/1004917755.py:16: VisibleDeprecationWarning: Creating an ndarray from ragged nested sequences (which is a list-or-tuple of lists-or-tuples-or ndarrays with different lengths or shapes) is deprecated. If you meant to do this, you must specify 'dtype=object' when creating the ndarray.\n",
      "  rom = np.array(list(ro_data.as_numpy_iterator()))\n",
      "/var/folders/g5/p95y18kn7ljd88z8mc59xsdm0000gn/T/ipykernel_44177/1004917755.py:17: VisibleDeprecationWarning: Creating an ndarray from ragged nested sequences (which is a list-or-tuple of lists-or-tuples-or ndarrays with different lengths or shapes) is deprecated. If you meant to do this, you must specify 'dtype=object' when creating the ndarray.\n",
      "  vic = np.array(list(vi_data.as_numpy_iterator()))\n",
      "/var/folders/g5/p95y18kn7ljd88z8mc59xsdm0000gn/T/ipykernel_44177/1004917755.py:18: VisibleDeprecationWarning: Creating an ndarray from ragged nested sequences (which is a list-or-tuple of lists-or-tuples-or ndarrays with different lengths or shapes) is deprecated. If you meant to do this, you must specify 'dtype=object' when creating the ndarray.\n",
      "  mod = np.array(list(mo_data.as_numpy_iterator()))\n"
     ]
    }
   ],
   "source": [
    "print(len(ro_l))\n",
    "print(ro_d.shape[0])\n",
    "assert len(ro_l) == ro_d.shape[0]\n",
    "assert len(vi_l) == vi_d.shape[0]\n",
    "assert len(mo_l) == mo_d.shape[0]\n",
    "ro_dst = tens(ro_d)\n",
    "ro_labelst = tens(ro_l)\n",
    "vi_dst = tens(vi_d)\n",
    "vi_labelst = tens(vi_l)\n",
    "mo_dst = tens(mo_d)\n",
    "mo_labelst = tens(mo_l)\n",
    "\n",
    "ro_data = tf.data.Dataset.from_tensor_slices(((ro_dst[:, 0], ro_dst[:, 1]), ro_labelst))\n",
    "vi_data = tf.data.Dataset.from_tensor_slices(((vi_dst[:, 0], vi_dst[:, 1]), vi_labelst))\n",
    "mo_data = tf.data.Dataset.from_tensor_slices(((mo_dst[:, 0], mo_dst[:, 1]), mo_labelst))\n",
    "rom = np.array(list(ro_data.as_numpy_iterator()))\n",
    "vic = np.array(list(vi_data.as_numpy_iterator()))\n",
    "mod = np.array(list(mo_data.as_numpy_iterator()))"
   ]
  },
  {
   "cell_type": "markdown",
   "metadata": {},
   "source": [
    "### Building the Model"
   ]
  },
  {
   "cell_type": "code",
   "execution_count": 7,
   "metadata": {},
   "outputs": [],
   "source": [
    "def one_hot(vocab, index):\n",
    "    vec = np.zeros(vocab)\n",
    "    vec[index] = 1\n",
    "    return vec\n",
    "\n",
    "def gen_training_exs(vocab, ds):\n",
    "    tc = ds[:, 0]\n",
    "    labels = ds[:, 1]\n",
    "    target = [t[0] for t in tc]\n",
    "    context = [t[1] for t in tc]\n",
    "    train_exs = np.empty((len(target), vocab), dtype=float)\n",
    "    output_labels = np.empty((len(context), vocab), dtype=float)\n",
    "    assert(train_exs.shape == output_labels.shape)\n",
    "    for i in range(len(train_exs)):\n",
    "        vec = one_hot(vocab, target[i])\n",
    "        for j in range(len(vec)):\n",
    "            train_exs[i][j] = vec[j]\n",
    "    for i in range(len(train_exs)):\n",
    "        vec = one_hot(vocab, context[i])\n",
    "        for j in range(len(vec)):\n",
    "            output_labels[i][j] = vec[j]\n",
    "    return train_exs, output_labels\n",
    "\n",
    "embed_dim = 128\n",
    "\n",
    "class W2V():\n",
    "    def __init__(self, vocab, embedding_dim):\n",
    "        self.vocab = vocab\n",
    "        self.dimen = embedding_dim\n",
    "\n",
    "    def train(self, x, labels, epochs, learning_rate):\n",
    "        self.opt = tf.optimizers.Adam()\n",
    "        self.W1 = tf.Variable(tf.random.normal([self.vocab, self.dimen])) #embedding layer with linear activation\n",
    "        self.b1 = tf.Variable(tf.random.normal([self.dimen])) #bias\n",
    "        self.W2 = tf.Variable(tf.random.normal([self.dimen, self.vocab])) # dustribution layer with softmax activation\n",
    "        self.b2 = tf.Variable(tf.random.normal([self.vocab]))\n",
    "        \n",
    "        for _ in range(epochs):\n",
    "            with tf.GradientTape() as g:\n",
    "                hidden_layer = tf.add(tf.matmul(x, self.W1),self.b1)\n",
    "                output_layer = tf.nn.softmax(tf.add(tf.matmul(hidden_layer, self.W2), self.b2))\n",
    "                loss = tf.reduce_mean(tf.reduce_sum(tf.math.xlog1py(labels, output_layer), axis=1)) #cross entropy of output label distribution and true distribution\n",
    "            grads = g.gradient(loss, [self.W1, self.b1, self.W2, self.b2])\n",
    "            self.opt.apply_gradients(zip(grads,[self.W1, self.b1, self.W2, self.b2]))\n",
    "            if(_ % 20 == 0):\n",
    "                print('loss: ', loss)\n",
    "        return self.W1\n",
    "        \n",
    "\n",
    "        "
   ]
  },
  {
   "cell_type": "markdown",
   "metadata": {},
   "source": [
    "## Training"
   ]
  },
  {
   "cell_type": "code",
   "execution_count": 8,
   "metadata": {},
   "outputs": [
    {
     "name": "stdout",
     "output_type": "stream",
     "text": [
      "loss:  tf.Tensor(2.3106802e-05, shape=(), dtype=float32)\n",
      "loss:  tf.Tensor(8.7598244e-07, shape=(), dtype=float32)\n",
      "loss:  tf.Tensor(3.6553055e-07, shape=(), dtype=float32)\n",
      "loss:  tf.Tensor(2.4541256e-07, shape=(), dtype=float32)\n",
      "loss:  tf.Tensor(1.8891201e-07, shape=(), dtype=float32)\n",
      "loss:  tf.Tensor(1.537066e-07, shape=(), dtype=float32)\n",
      "loss:  tf.Tensor(1.2901513e-07, shape=(), dtype=float32)\n",
      "loss:  tf.Tensor(1.1065338e-07, shape=(), dtype=float32)\n",
      "loss:  tf.Tensor(9.648061e-08, shape=(), dtype=float32)\n",
      "loss:  tf.Tensor(8.523542e-08, shape=(), dtype=float32)\n",
      "loss:  tf.Tensor(7.6115874e-08, shape=(), dtype=float32)\n",
      "loss:  tf.Tensor(6.858591e-08, shape=(), dtype=float32)\n",
      "loss:  tf.Tensor(6.227578e-08, shape=(), dtype=float32)\n",
      "loss:  tf.Tensor(5.691917e-08, shape=(), dtype=float32)\n",
      "loss:  tf.Tensor(5.2322296e-08, shape=(), dtype=float32)\n"
     ]
    }
   ],
   "source": [
    "ten_float = lambda l: tf.convert_to_tensor(l, dtype=tf.float32)\n",
    "rom_train, rom_labels = gen_training_exs(vocab_size, rom[np.random.choice(rom.shape[0], 40000, replace=False), :])\n",
    "w2v_romantic = W2V(vocab=vocab_size, embedding_dim=embed_dim)\n",
    "\n",
    "ro_embeds = w2v_romantic.train(x=ten_float(rom_train), labels=ten_float(rom_labels), epochs=300, learning_rate=0.1)"
   ]
  },
  {
   "cell_type": "code",
   "execution_count": 9,
   "metadata": {},
   "outputs": [
    {
     "name": "stdout",
     "output_type": "stream",
     "text": [
      "<tf.Variable 'Variable:0' shape=(5000, 128) dtype=float32, numpy=\n",
      "array([[ 0.69343877,  0.63411576,  2.1209626 , ..., -0.0539675 ,\n",
      "         0.6925125 , -0.55157804],\n",
      "       [ 0.9755625 , -0.94038826,  1.6885103 , ..., -0.75019795,\n",
      "        -0.08198641, -1.0423757 ],\n",
      "       [-0.2353969 ,  0.5781454 ,  1.8686509 , ..., -0.31173605,\n",
      "        -1.5197934 , -0.7137193 ],\n",
      "       ...,\n",
      "       [ 0.27675822, -0.1687743 , -0.40268803, ...,  0.55240566,\n",
      "        -1.008906  ,  0.24840368],\n",
      "       [ 2.3865457 ,  0.8435614 ,  0.84811425, ...,  0.38239217,\n",
      "        -1.0935806 ,  0.03152004],\n",
      "       [ 0.5633037 ,  0.6691284 ,  0.57154775, ...,  0.1619901 ,\n",
      "         1.2790054 ,  0.34737504]], dtype=float32)>\n"
     ]
    }
   ],
   "source": [
    "print(ro_embeds)"
   ]
  },
  {
   "cell_type": "code",
   "execution_count": 10,
   "metadata": {},
   "outputs": [
    {
     "name": "stdout",
     "output_type": "stream",
     "text": [
      "loss:  tf.Tensor(9.192093e-05, shape=(), dtype=float32)\n",
      "loss:  tf.Tensor(5.2939587e-05, shape=(), dtype=float32)\n",
      "loss:  tf.Tensor(3.7263035e-05, shape=(), dtype=float32)\n",
      "loss:  tf.Tensor(3.481323e-05, shape=(), dtype=float32)\n",
      "loss:  tf.Tensor(2.497303e-05, shape=(), dtype=float32)\n",
      "loss:  tf.Tensor(1.7500808e-05, shape=(), dtype=float32)\n",
      "loss:  tf.Tensor(1.7471486e-05, shape=(), dtype=float32)\n",
      "loss:  tf.Tensor(1.7449636e-05, shape=(), dtype=float32)\n",
      "loss:  tf.Tensor(1.7431395e-05, shape=(), dtype=float32)\n",
      "loss:  tf.Tensor(1.7413704e-05, shape=(), dtype=float32)\n",
      "loss:  tf.Tensor(1.738709e-05, shape=(), dtype=float32)\n",
      "loss:  tf.Tensor(1.7131037e-05, shape=(), dtype=float32)\n",
      "loss:  tf.Tensor(1.1497091e-07, shape=(), dtype=float32)\n",
      "loss:  tf.Tensor(8.796012e-08, shape=(), dtype=float32)\n",
      "loss:  tf.Tensor(7.172105e-08, shape=(), dtype=float32)\n"
     ]
    }
   ],
   "source": [
    "vic_train, vic_labels = gen_training_exs(vocab_size, vic[np.random.choice(vic.shape[0], 40000, replace=False), :])\n",
    "w2v_victorian = W2V(vocab=vocab_size, embedding_dim=embed_dim)\n",
    "\n",
    "vi_embeds = w2v_victorian.train(x=ten_float(vic_train), labels=ten_float(vic_labels), epochs=300, learning_rate=0.1)"
   ]
  },
  {
   "cell_type": "code",
   "execution_count": 11,
   "metadata": {},
   "outputs": [
    {
     "name": "stdout",
     "output_type": "stream",
     "text": [
      "<tf.Variable 'Variable:0' shape=(5000, 128) dtype=float32, numpy=\n",
      "array([[-0.16408828,  0.50495946, -0.42818624, ...,  1.1918136 ,\n",
      "        -0.16592975, -0.06681683],\n",
      "       [-0.04638888, -0.4281443 ,  0.4270108 , ...,  0.1458849 ,\n",
      "        -0.04898833,  0.3190463 ],\n",
      "       [ 0.44393831, -0.6508018 , -0.8791974 , ...,  0.09038912,\n",
      "        -0.25974166, -1.0296063 ],\n",
      "       ...,\n",
      "       [-0.09010698,  0.07856473,  0.41266605, ...,  0.11749893,\n",
      "        -1.6386011 ,  2.01072   ],\n",
      "       [ 0.36840898, -0.45533678, -2.8081355 , ..., -0.41538265,\n",
      "        -0.37178382, -0.64833117],\n",
      "       [ 0.67676747, -0.38676602,  0.36283383, ..., -0.12035744,\n",
      "         0.25251436,  0.76832694]], dtype=float32)>\n"
     ]
    }
   ],
   "source": [
    "print(vi_embeds)"
   ]
  },
  {
   "cell_type": "code",
   "execution_count": 12,
   "metadata": {},
   "outputs": [
    {
     "name": "stdout",
     "output_type": "stream",
     "text": [
      "loss:  tf.Tensor(9.312174e-05, shape=(), dtype=float32)\n",
      "loss:  tf.Tensor(1.4420765e-06, shape=(), dtype=float32)\n",
      "loss:  tf.Tensor(4.079762e-07, shape=(), dtype=float32)\n",
      "loss:  tf.Tensor(2.7534767e-07, shape=(), dtype=float32)\n",
      "loss:  tf.Tensor(2.2153942e-07, shape=(), dtype=float32)\n",
      "loss:  tf.Tensor(1.8804202e-07, shape=(), dtype=float32)\n",
      "loss:  tf.Tensor(1.6341454e-07, shape=(), dtype=float32)\n",
      "loss:  tf.Tensor(1.4409933e-07, shape=(), dtype=float32)\n",
      "loss:  tf.Tensor(1.2844765e-07, shape=(), dtype=float32)\n",
      "loss:  tf.Tensor(1.1549166e-07, shape=(), dtype=float32)\n",
      "loss:  tf.Tensor(1.0459572e-07, shape=(), dtype=float32)\n",
      "loss:  tf.Tensor(9.531776e-08, shape=(), dtype=float32)\n",
      "loss:  tf.Tensor(8.733366e-08, shape=(), dtype=float32)\n",
      "loss:  tf.Tensor(8.040189e-08, shape=(), dtype=float32)\n",
      "loss:  tf.Tensor(7.4337386e-08, shape=(), dtype=float32)\n"
     ]
    }
   ],
   "source": [
    "mod_train, mod_labels = gen_training_exs(vocab_size, mod[np.random.choice(mod.shape[0], 40000, replace=False), :])\n",
    "w2v_victorian = W2V(vocab=vocab_size, embedding_dim=embed_dim)\n",
    "\n",
    "mo_embeds = w2v_victorian.train(x=ten_float(mod_train), labels=ten_float(mod_labels), epochs=300, learning_rate=0.1)"
   ]
  },
  {
   "cell_type": "code",
   "execution_count": 13,
   "metadata": {},
   "outputs": [
    {
     "name": "stdout",
     "output_type": "stream",
     "text": [
      "<tf.Variable 'Variable:0' shape=(5000, 128) dtype=float32, numpy=\n",
      "array([[ 0.75071454,  0.5192617 , -0.34018376, ...,  0.83012676,\n",
      "        -0.158775  ,  1.8522294 ],\n",
      "       [ 2.184316  , -1.5014015 , -2.836997  , ..., -0.26980215,\n",
      "         0.9634887 , -1.2460449 ],\n",
      "       [-1.4850333 ,  1.5465415 ,  0.82585627, ..., -1.0924263 ,\n",
      "        -0.18927905,  0.21877275],\n",
      "       ...,\n",
      "       [ 0.9009982 ,  0.34702158,  1.0052853 , ..., -1.6442546 ,\n",
      "         1.0421294 , -0.7210014 ],\n",
      "       [ 2.2281156 ,  1.0633117 ,  1.1186606 , ...,  1.6444271 ,\n",
      "         0.11367285, -0.59812343],\n",
      "       [ 2.0025072 , -0.14735189, -0.6457216 , ..., -0.61884564,\n",
      "         0.09909103, -1.5218883 ]], dtype=float32)>\n"
     ]
    }
   ],
   "source": [
    "print(mo_embeds)"
   ]
  },
  {
   "cell_type": "code",
   "execution_count": 14,
   "metadata": {},
   "outputs": [],
   "source": [
    "np.save(\"ro_embeds.npy\", ro_embeds.numpy())\n",
    "np.save(\"vi_embeds.npy\", vi_embeds.numpy())\n",
    "np.save(\"mo_embeds.npy\", mo_embeds.numpy())"
   ]
  },
  {
   "cell_type": "code",
   "execution_count": 15,
   "metadata": {},
   "outputs": [],
   "source": [
    "np.save(\"ro_vocab.npy\", ro_vocab)\n",
    "np.save(\"vi_vocab.npy\", vi_vocab)\n",
    "np.save(\"mo_vocab.npy\", mo_vocab)"
   ]
  },
  {
   "cell_type": "markdown",
   "metadata": {},
   "source": [
    "### Dimensionality Reduction for Visualization"
   ]
  },
  {
   "cell_type": "code",
   "execution_count": 27,
   "metadata": {},
   "outputs": [
    {
     "name": "stderr",
     "output_type": "stream",
     "text": [
      "/Users/vibhav/miniforge3/envs/ml/lib/python3.9/site-packages/sklearn/manifold/_t_sne.py:982: FutureWarning: The PCA initialization in TSNE will change to have the standard deviation of PC1 equal to 1e-4 in 1.2. This will ensure better convergence.\n",
      "  warnings.warn(\n",
      "/Users/vibhav/miniforge3/envs/ml/lib/python3.9/site-packages/sklearn/manifold/_t_sne.py:982: FutureWarning: The PCA initialization in TSNE will change to have the standard deviation of PC1 equal to 1e-4 in 1.2. This will ensure better convergence.\n",
      "  warnings.warn(\n",
      "/Users/vibhav/miniforge3/envs/ml/lib/python3.9/site-packages/sklearn/manifold/_t_sne.py:982: FutureWarning: The PCA initialization in TSNE will change to have the standard deviation of PC1 equal to 1e-4 in 1.2. This will ensure better convergence.\n",
      "  warnings.warn(\n"
     ]
    },
    {
     "name": "stdout",
     "output_type": "stream",
     "text": [
      "15000\n",
      "15000\n"
     ]
    },
    {
     "data": {
      "image/png": "[encoded data removed]",
      "text/plain": [
       "<Figure size 432x288 with 1 Axes>"
      ]
     },
     "metadata": {
      "needs_background": "light"
     },
     "output_type": "display_data"
    },
    {
     "data": {
      "image/png": "[encoded data removed]",
      "text/plain": [
       "<Figure size 432x288 with 1 Axes>"
      ]
     },
     "metadata": {
      "needs_background": "light"
     },
     "output_type": "display_data"
    },
    {
     "data": {
      "image/png": "[encoded data removed]",
      "text/plain": [
       "<Figure size 432x288 with 1 Axes>"
      ]
     },
     "metadata": {
      "needs_background": "light"
     },
     "output_type": "display_data"
    }
   ],
   "source": [
    "tsne_ro = manifold.TSNE(perplexity=100, n_iter=500, init=\"pca\", learning_rate=\"auto\").fit_transform(ro_embeds.numpy())\n",
    "tsne_vi = manifold.TSNE(perplexity=100, n_iter=500, init=\"pca\", learning_rate=\"auto\").fit_transform(vi_embeds.numpy())\n",
    "tsne_mo = manifold.TSNE(perplexity=100, n_iter=500, init=\"pca\", learning_rate=\"auto\").fit_transform(mo_embeds.numpy())\n",
    "\n",
    "xs = np.append(tsne_ro[:, 0], np.append(tsne_vi[:, 0], tsne_mo[:, 0]))\n",
    "ys = np.append(tsne_ro[:, 1], np.append(tsne_vi[:, 1], tsne_mo[:, 1]))\n",
    "\n",
    "print(len(xs))\n",
    "print(len(ys))\n",
    "\n",
    "plt.scatter(tsne_ro[:, 0], tsne_ro[:, 1])\n",
    "plt.title('T-distributed Stochastic Neighbor Embeddings of Romantic Word Vectors')\n",
    "plt.show()\n",
    "\n",
    "plt.scatter(tsne_vi[:, 0], tsne_vi[:, 1])\n",
    "plt.title('T-distributed Stochastic Neighbor Embeddings of Victorian Word Vectors')\n",
    "plt.show()\n",
    "\n",
    "plt.scatter(tsne_mo[:, 0], tsne_mo[:, 1])\n",
    "plt.title('T-distributed Stochastic Neighbor Embeddings of Modern Word Vectors')\n",
    "plt.show()"
   ]
  }
 ],
 "metadata": {
  "interpreter": {
   "hash": "832b8135acf3794d5a361432e78e1c8baf371eb4329d607b918160ecccea1f09"
  },
  "kernelspec": {
   "display_name": "Python 3.9.7 64-bit ('base': conda)",
   "language": "python",
   "name": "python3"
  },
  "language_info": {
   "codemirror_mode": {
    "name": "ipython",
    "version": 3
   },
   "file_extension": ".py",
   "mimetype": "text/x-python",
   "name": "python",
   "nbconvert_exporter": "python",
   "pygments_lexer": "ipython3",
   "version": "3.9.12"
  }
 },
 "nbformat": 4,
 "nbformat_minor": 2
}
