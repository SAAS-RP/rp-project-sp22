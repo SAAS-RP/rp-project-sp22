{
 "cells": [
  {
   "cell_type": "markdown",
   "metadata": {},
   "source": [
    "## Word Embeddings \n",
    "\n",
    "This file is meant for preprocessing our final dataset into a proper training set for Word2Vec, as well as building the model itself using Tensorflow."
   ]
  },
  {
   "cell_type": "code",
   "execution_count": null,
   "metadata": {},
   "outputs": [],
   "source": [
    "import numpy as np\n",
    "import tensorflow as tf\n",
    "import pickle\n",
    "import nltk\n",
    "import collections\n",
    "import itertools\n",
    "import re"
   ]
  },
  {
   "cell_type": "markdown",
   "metadata": {},
   "source": [
    "In this cell we load the classical dataset of words and sentences."
   ]
  },
  {
   "cell_type": "code",
   "execution_count": null,
   "metadata": {},
   "outputs": [],
   "source": [
    "# loading datasets\n",
    "data_folder = '/Users/vibhav/Desktop/rp-project-data'\n",
    "classical = pickle.load(open(data_folder + '/classical.pkl', mode='rb'))\n",
    "romantic = pickle.load(open(data_folder + '/romantic.pkl', mode='rb'))\n",
    "victorian = pickle.load(open(data_folder + '/victorian.pkl', mode='rb'))\n",
    "modern = pickle.load(open(data_folder + '/modern.pkl', mode='rb'))"
   ]
  },
  {
   "cell_type": "markdown",
   "metadata": {},
   "source": [
    "## Generating Training Data"
   ]
  },
  {
   "cell_type": "code",
   "execution_count": null,
   "metadata": {},
   "outputs": [],
   "source": [
    "#removing stopwords and stemming\n",
    "stemmer = nltk.stem.SnowballStemmer('english')\n",
    "stop_words = nltk.corpus.stopwords.words('english')\n",
    "\n",
    "def standardization(sent):\n",
    "    sent = tf.strings.lower(sent)\n",
    "    return tf.strings.regex_replace(sent, '[^a-zA-Z\\s]', '')\n",
    "\n",
    "vocab_size = 20000\n",
    "seq_length = 10\n",
    "\n",
    "#text vectorizer for every dataset\n",
    "ro_vectorizer_layer = tf.keras.layers.TextVectorization(standardize=standardization, output_mode='int', output_sequence_length=seq_length, split='whitespace')\n",
    "vi_vectorizer_layer = tf.keras.layers.TextVectorization(standardize=standardization, output_mode='int', output_sequence_length=seq_length, split='whitespace')\n",
    "mo_vectorizer_layer = tf.keras.layers.TextVectorization(standardize=standardization, output_mode='int', output_sequence_length=seq_length, split='whitespace')\n",
    "\n",
    "#extracting training samples\n",
    "\n",
    "ro_dataset = tf.data.Dataset.from_tensor_slices(romantic['sentences'])\n",
    "vi_dataset = tf.data.Dataset.from_tensor_slices(victorian['sentences'])\n",
    "mo_dataset = tf.data.Dataset.from_tensor_slices(modern['sentences'])\n",
    "\n",
    "#fitting vectorize layer to corpus\n",
    "ro_vectorizer_layer.adapt(ro_dataset.batch(500))\n",
    "vi_vectorizer_layer.adapt(vi_dataset.batch(500))\n",
    "mo_vectorizer_layer.adapt(mo_dataset.batch(500))\n",
    "\n",
    "ro_vocab = ro_vectorizer_layer.get_vocabulary()\n",
    "vi_vocab = vi_vectorizer_layer.get_vocabulary()\n",
    "mo_vocab = mo_vectorizer_layer.get_vocabulary()\n",
    "\n",
    "ro_int_sents = ro_dataset.batch(500).prefetch(tf.data.AUTOTUNE).map(ro_vectorizer_layer).unbatch()\n",
    "vi_int_sents = vi_dataset.batch(500).prefetch(tf.data.AUTOTUNE).map(vi_vectorizer_layer).unbatch()\n",
    "mo_int_sents = mo_dataset.batch(500).prefetch(tf.data.AUTOTUNE).map(mo_vectorizer_layer).unbatch()\n",
    "\n",
    "ro_seqs = list(ro_int_sents.as_numpy_iterator())\n",
    "vi_seqs = list(vi_int_sents.as_numpy_iterator())\n",
    "mo_seqs = list(mo_int_sents.as_numpy_iterator())\n",
    "\n",
    "print(len(ro_seqs))\n",
    "print(len(vi_seqs))\n",
    "print(len(mo_seqs))"
   ]
  },
  {
   "cell_type": "code",
   "execution_count": null,
   "metadata": {},
   "outputs": [],
   "source": [
    "# generating skip-grams\n",
    "ro_dataset = np.array([], dtype=object)\n",
    "ro_labels = np.array([], dtype=object)\n",
    "vi_dataset = np.array([], dtype=object)\n",
    "vi_labels = np.array([], dtype=object)\n",
    "mo_dataset = np.array([], dtype=object)\n",
    "vi_labels = np.array([], dtype=object)\n",
    "\n",
    "for s in ro_seqs:\n",
    "    sg, ls = tf.keras.preprocessing.sequence.skipgrams(s, vocabulary_size=len(ro_vocab), window_size=5, negative_samples=1.0)\n",
    "    ro_dataset = np.append(ro_dataset, sg)\n",
    "    ro_labels = np.append(ro_labels, ls)\n",
    "for s in vi_seqs:\n",
    "    sg, ls = tf.keras.preprocessing.sequence.skipgrams(s, vocabulary_size=len(ro_vocab), window_size=5, negative_samples=1.0)\n",
    "    vi_dataset = np.append(vi_dataset, sg)\n",
    "    vi_labels = np.append(vi_labels, ls)\n",
    "for s in mo_seqs:\n",
    "    sg, ls = tf.keras.preprocessing.sequence.skipgrams(s, vocabulary_size=len(ro_vocab), window_size=5, negative_samples=1.0)\n",
    "    mo_dataset = np.append(mo_dataset, sg)\n",
    "    mo_labels = np.append(mo_labels, ls)\n",
    "\n",
    "    \n",
    "\n"
   ]
  },
  {
   "cell_type": "markdown",
   "metadata": {},
   "source": [
    "## Building the Model"
   ]
  },
  {
   "cell_type": "code",
   "execution_count": null,
   "metadata": {},
   "outputs": [],
   "source": [
    "#word2vec subclassing with keras\n",
    "\n",
    "class Word2Vec(tf.keras.Model):\n",
    "    def __init__(self, vocab_len, dim):\n",
    "        super(Word2Vec, self).__init__()\n",
    "        self.t_emb = tf.keras.layers.Embedding(vocab_len,dim,input_length=1,name=\"w2v_embedding\") # input layer/target matrix\n",
    "        self.c_emb = tf.keras.layers.Embedding(vocab_size,dim,input_length=6) #hidden layer/context matrix\n",
    "    def call(self, tuple):\n",
    "        return np.dot(self.t_emb(tuple[0]), self.c_emb(tuple[1]))\n",
    "    "
   ]
  },
  {
   "cell_type": "code",
   "execution_count": null,
   "metadata": {},
   "outputs": [],
   "source": [
    "vec_dimension = 300\n",
    "w2v_romantic = Word2Vec(len(ro_vocab), vec_dimension)\n",
    "w2v_victorian = Word2Vec(len(vi_vocab), vec_dimension)\n",
    "w2v_modern = Word2Vec(len(mo_vocab), vec_dimension)\n",
    "\n",
    "#exemplar optimization and cosine loss\n",
    "\n",
    "w2v_romantic.compile(optimizer='ftrl', loss=tf.keras.losses.CosineSimilarity(from_logits=True), metrics=['accuracy']) \n",
    "w2v_victorian.compile(optimizer='ftrl', loss=tf.keras.losses.CosineSimilarity(from_logits=True), metrics=['accuracy'])\n",
    "w2v_modern.compile(optimizer='ftrl', loss=tf.keras.losses.CosineSimilarity(from_logits=True), metrics=['accuracy'])"
   ]
  }
 ],
 "metadata": {
  "interpreter": {
   "hash": "832b8135acf3794d5a361432e78e1c8baf371eb4329d607b918160ecccea1f09"
  },
  "kernelspec": {
   "display_name": "Python 3.9.7 64-bit ('base': conda)",
   "language": "python",
   "name": "python3"
  },
  "language_info": {
   "codemirror_mode": {
    "name": "ipython",
    "version": 3
   },
   "file_extension": ".py",
   "mimetype": "text/x-python",
   "name": "python",
   "nbconvert_exporter": "python",
   "pygments_lexer": "ipython3",
   "version": "3.9.11"
  }
 },
 "nbformat": 4,
 "nbformat_minor": 2
}
