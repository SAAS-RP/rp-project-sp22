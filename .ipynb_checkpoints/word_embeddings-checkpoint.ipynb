{
 "cells": [
  {
   "cell_type": "markdown",
   "metadata": {},
   "source": [
    "## Word Embeddings \n",
    "\n",
    "This file is meant for preprocessing our final dataset into a proper training set for Word2Vec, as well as building the model itself using Tensorflow."
   ]
  },
  {
   "cell_type": "code",
   "execution_count": null,
   "metadata": {},
   "outputs": [],
   "source": [
    "import numpy as np\n",
    "import tensorflow as tf\n",
    "import pickle"
   ]
  },
  {
   "cell_type": "markdown",
   "metadata": {},
   "source": [
    "In this cell we load the classical dataset of words and sentences."
   ]
  },
  {
   "cell_type": "code",
   "execution_count": null,
   "metadata": {},
   "outputs": [],
   "source": [
    "# loading datasets\n",
    "data_folder = '/Users/vibhav/Desktop/rp-project-data'\n",
    "classical = pickle.load(open(data_folder + '/classical.pkl', 'r'))\n",
    "# romantic = pickle.load(open(data_folder + '/romantic.pkl', 'r'))\n",
    "# victorian = pickle.load(open(data_folder + '/victorian.pkl', 'r'))\n",
    "# modern = pickle.load(open(data_folder + '/modern.pkl', 'r'))\n",
    "\n",
    "print(classical['words'][:100])\n",
    "# print(romantic['words'][:100])\n",
    "# print(victorian['words'][:100])\n",
    "# print(modern['words'][:100])"
   ]
  }
 ],
 "metadata": {
  "interpreter": {
   "hash": "e542a0d36c69062b0832e2bba2cdbcd23163a9ce089c7ab9a95984b150376c5e"
  },
  "kernelspec": {
   "display_name": "Python 3.9.7 64-bit ('base': conda)",
   "language": "python",
   "name": "python397jvsc74a57bd0e542a0d36c69062b0832e2bba2cdbcd23163a9ce089c7ab9a95984b150376c5e"
  },
  "language_info": {
   "codemirror_mode": {
    "name": "ipython",
    "version": 3
   },
   "file_extension": ".py",
   "mimetype": "text/x-python",
   "name": "python",
   "nbconvert_exporter": "python",
   "pygments_lexer": "ipython3",
   "version": "3.9.7"
  }
 },
 "nbformat": 4,
 "nbformat_minor": 2
}
