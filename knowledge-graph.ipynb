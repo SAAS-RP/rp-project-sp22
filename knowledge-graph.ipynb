{
 "cells": [
  {
   "cell_type": "markdown",
   "metadata": {},
   "source": [
    "## Knowledge Graphs\n",
    "\n",
    "Using Tensorflow and the Neural Structured Learning framework to automate construction of knowledge graphs from the relational word vectors"
   ]
  },
  {
   "cell_type": "code",
   "execution_count": null,
   "metadata": {},
   "outputs": [],
   "source": [
    "import numpy as np\n",
    "import tensorflow as tf\n",
    "import neural_structured_learning as nsl\n",
    "import collections\n",
    "from sklearn.utils import shuffle"
   ]
  },
  {
   "cell_type": "code",
   "execution_count": null,
   "metadata": {},
   "outputs": [],
   "source": [
    "#importing embeddings and vocab\n",
    "folder = '/Users/vibhav/Desktop/rp-project-data'\n",
    "\n",
    "ro_embeds = np.load(folder+'/ro_embeds.npy')\n",
    "vi_embeds = np.load(folder+'/vi_embeds.npy')\n",
    "mo_embeds = np.load(folder+'/mo_embeds.npy')\n",
    "\n",
    "ro_vocab = np.load(folder+'/ro_vocab.npy')\n",
    "vi_vocab = np.load(folder+'/vi_vocab.npy')\n",
    "mo_vocab = np.load(folder+'/mo_vocab.npy')\n",
    "\n",
    "\n"
   ]
  },
  {
   "cell_type": "code",
   "execution_count": null,
   "metadata": {},
   "outputs": [],
   "source": [
    "#shuffling vectors and vocab for random sampling\n",
    "\n",
    "ro_embeds, ro_vocab = shuffle(ro_embeds, ro_vocab)\n",
    "vi_embeds, vi_vocab = shuffle(vi_embeds, vi_vocab)\n",
    "mo_embeds, mo_vocab = shuffle(mo_embeds, mo_vocab)\n",
    "\n",
    "#creating dictionary mapping of words to vectors\n",
    "\n",
    "ro_vecs_train = collections.defaultdict()\n",
    "ro_vecs_test = collections.defaultdict()\n",
    "\n",
    "assert(len(ro_vocab) == len(ro_embeds))\n",
    "for i in range(3500):\n",
    "    ro_vecs_train[ro_vocab[i]] = ro_embeds[i]\n",
    "\n",
    "for i in range(1500):\n",
    "    ro_vecs_test[ro_vocab[i+3500]] = ro_embeds[i+3500]\n",
    "    \n",
    "\n",
    "vi_vecs_train = collections.defaultdict()\n",
    "vi_vecs_test = collections.defaultdict()\n",
    "\n",
    "assert(len(vi_vocab) == len(vi_embeds))\n",
    "for i in range(3500):\n",
    "    ro_vecs_train[vi_vocab[i]] = vi_embeds[i]\n",
    "\n",
    "for i in range(1500):\n",
    "    ro_vecs_test[vi_vocab[i+3500]] = vi_embeds[i+3500]\n",
    "\n",
    "mo_vecs_train = collections.defaultdict()\n",
    "mo_vecs_test = collections.defaultdict()\n",
    "\n",
    "assert(len(mo_vocab) == len(mo_embeds))\n",
    "for i in range(3500):\n",
    "    ro_vecs_train[mo_vocab[i]] = mo_embeds[i]\n",
    "\n",
    "for i in range(1500):\n",
    "    ro_vecs_test[mo_vocab[i+3500]] = mo_embeds[i+3500]\n"
   ]
  },
  {
   "cell_type": "code",
   "execution_count": null,
   "metadata": {},
   "outputs": [],
   "source": [
    "#building graphs from embeddings\n",
    "tensor = lambda l: tf.convert_to_tensor(l, dtype=tf.float32)\n",
    "gbc = nsl.configs.GraphBuilderConfig(similarity_threshold=0.87, lsh_splits=1000, lsh_rounds=50)\n",
    "\n",
    "def write_to_tfrecord(output_path, vecs):\n",
    "    with tf.io.TFRecordWriter(output_path) as writer:\n",
    "        for word in vecs.keys():\n",
    "            key = tf.train.BytesList(value=[word.encode(encoding='cp1252')])\n",
    "            vec = tf.train.FloatList(value=vecs[word])\n",
    "            key_f = tf.train.Feature(bytes_list=key)\n",
    "            vec_f = tf.train.Feature(float_list=vec)\n",
    "            features = {'id': key_f, 'embedding': vec_f}\n",
    "            example = tf.train.Example(features=tf.train.Features(feature=features))\n",
    "            writer.write(example.SerializeToString())\n",
    "\n",
    "write_to_tfrecord(folder+'/ro_t_exs.tfr', ro_vecs_train)\n",
    "write_to_tfrecord(folder+'/vi_t_exs.tfr', vi_vecs_train)\n",
    "write_to_tfrecord(folder+'/mo_t_exs.tfr', mo_vecs_train)\n",
    "\n",
    "nsl.tools.build_graph_from_config([folder+'/ro_t_exs.tfr'], folder+'/ro_t_graph.tsv', gbc)\n",
    "nsl.tools.build_graph_from_config([folder+'/vi_t_exs.tfr'], folder+'/vi_t_graph.tsv', gbc)\n",
    "nsl.tools.build_graph_from_config([folder+'/mo_t_exs.tfr'], folder+'/mo_t_graph.tsv', gbc)\n"
   ]
  }
 ],
 "metadata": {
  "interpreter": {
   "hash": "745178d798173e3bf1e33137dac8fb883a68d985d1c267d2c5d2802d0d8d4d7f"
  },
  "kernelspec": {
   "display_name": "Python 3.9.12 ('ml')",
   "language": "python",
   "name": "python3"
  },
  "language_info": {
   "codemirror_mode": {
    "name": "ipython",
    "version": 3
   },
   "file_extension": ".py",
   "mimetype": "text/x-python",
   "name": "python",
   "nbconvert_exporter": "python",
   "pygments_lexer": "ipython3",
   "version": "3.9.12"
  },
  "orig_nbformat": 4
 },
 "nbformat": 4,
 "nbformat_minor": 2
}
